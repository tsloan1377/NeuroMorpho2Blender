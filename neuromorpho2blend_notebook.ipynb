{
 "cells": [
  {
   "cell_type": "markdown",
   "metadata": {},
   "source": [
    "# Neuromorpho.org 2 blender notebook\n",
    "\n",
    "This Notebook accompanies the neuromorpho2blender_headless.py script\n",
    "\n",
    "It let's you preview neurons of interest in 2d and 3d, and control the running of a headless blender instance to create and render a blend file."
   ]
  },
  {
   "cell_type": "markdown",
   "metadata": {},
   "source": [
    "# Imports"
   ]
  },
  {
   "cell_type": "code",
   "execution_count": 1,
   "metadata": {},
   "outputs": [],
   "source": [
    "import numpy as np\n",
    "import pandas as pd\n",
    "import pickle\n",
    "import subprocess as sp # For running blender in headless mode\n",
    "\n",
    "from neuromorpholib import neuromorpho\n",
    "\n",
    "# For showing the png of the neuron in the notebook\n",
    "from IPython.display import Image\n",
    "from IPython.core.display import HTML \n",
    "\n",
    "# For visualizing the neuron in 3d\n",
    "import plotly.express as px\n",
    "import plotly.graph_objects as go"
   ]
  },
  {
   "cell_type": "markdown",
   "metadata": {},
   "source": [
    "# Functions"
   ]
  },
  {
   "cell_type": "code",
   "execution_count": null,
   "metadata": {},
   "outputs": [],
   "source": [
    "def load_data(n_neurons=121544): \n",
    "\n",
    "    filename = 'first_'+str(n_neurons)+'_neurons_'\n",
    "    df = pd.read_pickle(filename+'df.pkl') \n",
    "\n",
    "    with open(filename+'measurments_list.pkl', 'rb') as f:\n",
    "        measurements = pickle.load(f)\n",
    "        \n",
    "    with open(filename+'info_listdf.pkl', 'rb') as f:\n",
    "        info = pickle.load(f)    \n",
    "\n",
    "    return df, measurements, info"
   ]
  },
  {
   "cell_type": "code",
   "execution_count": null,
   "metadata": {},
   "outputs": [],
   "source": [
    "def show_neuron_png(neur_id):    \n",
    "    \n",
    "    this_row = df.loc[df['neuron_id'] == neur_id]\n",
    "\n",
    "    neur_ind = this_row.index[0] # Distinct from neur_id, but one value off. This is the value used to index the lists collected previously.\n",
    "                                # zero-indexed to remove dtype of pandas index    # print(neur_ind, np.shape(neur_ind))\n",
    "\n",
    "    # Based on the id, get the neuron name, archive, and image url\n",
    "    this_name = info[neur_ind]['neuron_name']\n",
    "    this_archive = info[neur_ind]['archive']\n",
    "    this_url = info[neur_ind]['png_url']\n",
    "    print(this_url)\n",
    "    \n",
    "    # View the .png version with html\n",
    "    img = Image(url= this_url)\n",
    "    display(img)\n"
   ]
  },
  {
   "cell_type": "code",
   "execution_count": null,
   "metadata": {},
   "outputs": [],
   "source": [
    "def show_neuron_3d(neur_id, export=False):    \n",
    "    this_row = df.loc[df['neuron_id'] == neur_id]\n",
    "\n",
    "    neur_ind = this_row.index[0] # Distinct from neur_id, but one value off. This is the value used to index the lists collected previously.\n",
    "                                # zero-indexed to remove dtype of pandas index\n",
    "\n",
    "    # Based on the id, get the neuron name, archive, and image url\n",
    "    this_name = info[neur_ind]['neuron_name']\n",
    "    this_archive = info[neur_ind]['archive']\n",
    "    this_url = info[neur_ind]['png_url']\n",
    "\n",
    "    # Use neuromorpho to get the associated swc file\n",
    "    nmo = neuromorpho.NeuroMorpho()\n",
    "    test_swc = nmo.download_swc(this_archive, this_name, text_only=True)\n",
    "\n",
    "    # Save the swc locally as a temporary file (Otherwise save as a named file)\n",
    "    text_file = open(\"tmp.swc\", \"wt\")\n",
    "    n = text_file.write(test_swc)\n",
    "    text_file.close()\n",
    "\n",
    "    # Load the swc file as numpy arrays\n",
    "    neur_data = np.loadtxt('tmp.swc')\n",
    "    x = neur_data[:,2]\n",
    "    y = neur_data[:,3]\n",
    "    z = neur_data[:,4]\n",
    "\n",
    "    # Plot with Plotly\n",
    "    fig = go.Figure(data=[go.Scatter3d(x=x, y=y, z=z,\n",
    "                                       mode='markers',\n",
    "                                       marker=dict(\n",
    "                                       size=2,\n",
    "                                       color=z,                # set color to an array/list of desired values\n",
    "                                       colorscale='Viridis',   # choose a colorscale\n",
    "                                       opacity=0.8\n",
    "                                       ))])\n",
    "    fig.show()\n",
    "    if(export):\n",
    "        fig.write_html('neuron_'+str(neur_id)+'.html')"
   ]
  },
  {
   "cell_type": "code",
   "execution_count": null,
   "metadata": {},
   "outputs": [],
   "source": [
    "def blender_animation(neur_id):\n",
    "    \n",
    "    blender_path = 'C://Program Files/Blender Foundation/Blender/blender.exe'\n",
    "    blend_file = 'neuron_rotation_template.blend'\n",
    "    script_name = 'neuromorpho2blender_headless.py'\n",
    "    sp.call([blender_path,'--background',blend_file,'--python',script_name, '--', str(neur_id)])\n"
   ]
  },
  {
   "cell_type": "code",
   "execution_count": null,
   "metadata": {},
   "outputs": [],
   "source": [
    "df, measurements, info = load_data() \n",
    "display(df)"
   ]
  },
  {
   "cell_type": "code",
   "execution_count": null,
   "metadata": {},
   "outputs": [],
   "source": [
    "neur_id = 42574\n",
    "show_neuron_png(neur_id)"
   ]
  },
  {
   "cell_type": "code",
   "execution_count": null,
   "metadata": {},
   "outputs": [],
   "source": [
    "show_neuron_3d(neur_id)"
   ]
  },
  {
   "cell_type": "code",
   "execution_count": null,
   "metadata": {},
   "outputs": [],
   "source": [
    "blender_animation(neur_id)"
   ]
  },
  {
   "cell_type": "code",
   "execution_count": null,
   "metadata": {},
   "outputs": [],
   "source": []
  }
 ],
 "metadata": {
  "kernelspec": {
   "display_name": "Python 3",
   "language": "python",
   "name": "python3"
  },
  "language_info": {
   "codemirror_mode": {
    "name": "ipython",
    "version": 3
   },
   "file_extension": ".py",
   "mimetype": "text/x-python",
   "name": "python",
   "nbconvert_exporter": "python",
   "pygments_lexer": "ipython3",
   "version": "3.6.7"
  }
 },
 "nbformat": 4,
 "nbformat_minor": 2
}
